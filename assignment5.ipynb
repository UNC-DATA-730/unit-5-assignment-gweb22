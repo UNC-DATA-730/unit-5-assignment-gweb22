{
 "cells": [
  {
   "cell_type": "markdown",
   "id": "df0d234f-1e1a-4495-8208-e177e7f527aa",
   "metadata": {},
   "source": [
    "Complete the exercises below For **Assignment #5**."
   ]
  },
  {
   "cell_type": "markdown",
   "id": "dda5a856-c272-4fdd-8670-d66a0cf2c7e4",
   "metadata": {},
   "source": [
    "In this exercise, we are building a logistic regression classification model. We'll work with the [Pima Indians Diabetes Database](https://www.kaggle.com/datasets/uciml/pima-indians-diabetes-database).  "
   ]
  },
  {
   "cell_type": "markdown",
   "id": "c123800d-7139-4c31-ba42-82b8a8eb7ff5",
   "metadata": {},
   "source": [
    "Load the `tidymodels` library. "
   ]
  },
  {
   "cell_type": "code",
   "execution_count": 41,
   "id": "047c6e53-68f8-466b-ae3c-1bc19e288f27",
   "metadata": {
    "tags": []
   },
   "outputs": [],
   "source": [
    "library('tidymodels')"
   ]
  },
  {
   "cell_type": "markdown",
   "id": "c6ef6a10-5b45-4857-b776-a81f92a0b682",
   "metadata": {},
   "source": [
    "The data is located in your homework directory in the `diabetes.csv` file. Read in the data by running the following cell. We are \"splitting\" the data into training and testing sets. We will evaluate our model's performance with the test set."
   ]
  },
  {
   "cell_type": "code",
   "execution_count": 42,
   "id": "e68fb274-ddbe-4ae0-a927-2c4d57d3b31a",
   "metadata": {
    "tags": []
   },
   "outputs": [
    {
     "name": "stderr",
     "output_type": "stream",
     "text": [
      "\u001b[1mRows: \u001b[22m\u001b[34m768\u001b[39m \u001b[1mColumns: \u001b[22m\u001b[34m9\u001b[39m\n",
      "\u001b[36m──\u001b[39m \u001b[1mColumn specification\u001b[22m \u001b[36m────────────────────────────────────────────────────────\u001b[39m\n",
      "\u001b[1mDelimiter:\u001b[22m \",\"\n",
      "\u001b[32mdbl\u001b[39m (9): Pregnancies, Glucose, BloodPressure, SkinThickness, Insulin, BMI, D...\n",
      "\n",
      "\u001b[36mℹ\u001b[39m Use `spec()` to retrieve the full column specification for this data.\n",
      "\u001b[36mℹ\u001b[39m Specify the column types or set `show_col_types = FALSE` to quiet this message.\n"
     ]
    }
   ],
   "source": [
    "diabetes = readr::read_csv('diabetes.csv') |> mutate(Outcome = factor(Outcome))\n",
    "\n",
    "split = initial_split(diabetes, strata = Outcome)\n",
    "\n",
    "diabetes_train = training(split)\n",
    "diabetes_test = testing(split)"
   ]
  },
  {
   "cell_type": "markdown",
   "id": "8b09de69-a735-4176-9eae-39479d2a3836",
   "metadata": {},
   "source": [
    "Glimpse the `diabetes_train` table."
   ]
  },
  {
   "cell_type": "code",
   "execution_count": 43,
   "id": "31877cc1-ae94-4002-9c95-30244b8df393",
   "metadata": {
    "tags": []
   },
   "outputs": [
    {
     "name": "stdout",
     "output_type": "stream",
     "text": [
      "Rows: 576\n",
      "Columns: 9\n",
      "$ Pregnancies              \u001b[3m\u001b[90m<dbl>\u001b[39m\u001b[23m 1, 10, 4, 10, 1, 13, 5, 5, 10, 11, 3, 7, 2, 7…\n",
      "$ Glucose                  \u001b[3m\u001b[90m<dbl>\u001b[39m\u001b[23m 89, 115, 110, 139, 97, 145, 117, 109, 122, 13…\n",
      "$ BloodPressure            \u001b[3m\u001b[90m<dbl>\u001b[39m\u001b[23m 66, 0, 92, 80, 66, 82, 92, 75, 78, 76, 64, 84…\n",
      "$ SkinThickness            \u001b[3m\u001b[90m<dbl>\u001b[39m\u001b[23m 23, 0, 0, 0, 15, 19, 0, 26, 31, 0, 25, 0, 27,…\n",
      "$ Insulin                  \u001b[3m\u001b[90m<dbl>\u001b[39m\u001b[23m 94, 0, 0, 0, 140, 110, 0, 0, 0, 0, 70, 0, 0, …\n",
      "$ BMI                      \u001b[3m\u001b[90m<dbl>\u001b[39m\u001b[23m 28.1, 35.3, 37.6, 27.1, 23.2, 22.2, 34.1, 36.…\n",
      "$ DiabetesPedigreeFunction \u001b[3m\u001b[90m<dbl>\u001b[39m\u001b[23m 0.167, 0.134, 0.191, 1.441, 0.487, 0.245, 0.3…\n",
      "$ Age                      \u001b[3m\u001b[90m<dbl>\u001b[39m\u001b[23m 21, 29, 30, 57, 22, 57, 38, 60, 45, 35, 26, 3…\n",
      "$ Outcome                  \u001b[3m\u001b[90m<fct>\u001b[39m\u001b[23m 0, 0, 0, 0, 0, 0, 0, 0, 0, 0, 0, 0, 0, 0, 0, …\n"
     ]
    }
   ],
   "source": [
    "diabetes_train %>% glimpse()\n",
    "\n"
   ]
  },
  {
   "cell_type": "markdown",
   "id": "c061892f-14af-4342-8098-6799d6117391",
   "metadata": {},
   "source": [
    "❓ Which variable is suitable as the \"outcome\" in a logistic regression model?\n",
    "\n",
    "**Answer:**"
   ]
  },
  {
   "cell_type": "markdown",
   "id": "7397eab0-466e-4c9f-963c-10279f37b8f9",
   "metadata": {},
   "source": [
    "The 'Outcome' variable is suitable as the 'outcome' in a logistic model because it is set to 0 and 1, and thus will give us a binary outcome to train the model on."
   ]
  },
  {
   "cell_type": "markdown",
   "id": "16827b78-d5b4-4037-b89b-fa2ed13f0968",
   "metadata": {},
   "source": [
    "❓ Navigate to [Kaggle page]() for this dataset. Find descriptions for the `Glucose` and `BMI` columns. Add these descriptions to the [Markdown table](https://www.markdownguide.org/extended-syntax/#tables) below."
   ]
  },
  {
   "cell_type": "markdown",
   "id": "8025ad75-2a7b-43cd-9df4-77677abdf492",
   "metadata": {},
   "source": [
    "| Column name | Description |\n",
    "| :---------- | :---------- |\n",
    "| Glucose     |       Plasma glucose concentration a 2 hours in an oral glucose tolerance test       |\n",
    "| BMI         |      Body mass index (weight in kg/(height in m)^2)       |"
   ]
  },
  {
   "cell_type": "markdown",
   "id": "1ad31340-2c33-48a6-9a5b-468b970e670c",
   "metadata": {},
   "source": [
    "Make a bar chart showing the frequency of each \"outcome\" in the `Outcome` column from your `diabetes_train` data."
   ]
  },
  {
   "cell_type": "code",
   "execution_count": 44,
   "id": "579fb58c-0b0d-4fff-9b0e-826d38247a29",
   "metadata": {
    "tags": []
   },
   "outputs": [
    {
     "data": {
      "image/png": "[encoded data removed]",
      "text/plain": [
       "plot without title"
      ]
     },
     "metadata": {
      "image/png": {
       "height": 500,
       "width": 625
      }
     },
     "output_type": "display_data"
    }
   ],
   "source": [
    "ggplot(diabetes_train, aes(x = Outcome)) +\n",
    "    geom_bar()"
   ]
  },
  {
   "cell_type": "markdown",
   "id": "cc6a0694-256c-45a1-bcf5-bdebeb472a7b",
   "metadata": {},
   "source": [
    "❓ Is the data balanced? I.e. do we have equal counts of each outcome?\n",
    "\n",
    "**Answer:**"
   ]
  },
  {
   "cell_type": "markdown",
   "id": "efd8f241-b449-4882-99d5-262372abc795",
   "metadata": {},
   "source": [
    "No, the 0 outcome occurs approximately 350 times, whereas the 1 outcome occurs only about 200 times\n",
    "\n"
   ]
  },
  {
   "cell_type": "markdown",
   "id": "f7cbe99d-468c-45fa-83ba-7a372b1557e5",
   "metadata": {},
   "source": [
    "Run the code below to create a table for plotting the predictors we will use in our model: `Glucose` and `BMI`. "
   ]
  },
  {
   "cell_type": "code",
   "execution_count": 45,
   "id": "f65b95e2-0a95-4684-8017-30ae1b8bee5f",
   "metadata": {
    "tags": []
   },
   "outputs": [
    {
     "data": {
      "text/html": [
       "<table class=\"dataframe\">\n",
       "<caption>A tibble: 6 × 3</caption>\n",
       "<thead>\n",
       "\t<tr><th scope=col>Outcome</th><th scope=col>name</th><th scope=col>value</th></tr>\n",
       "\t<tr><th scope=col>&lt;fct&gt;</th><th scope=col>&lt;chr&gt;</th><th scope=col>&lt;dbl&gt;</th></tr>\n",
       "</thead>\n",
       "<tbody>\n",
       "\t<tr><td>0</td><td>Glucose</td><td> 89.0</td></tr>\n",
       "\t<tr><td>0</td><td>BMI    </td><td> 28.1</td></tr>\n",
       "\t<tr><td>0</td><td>Glucose</td><td>115.0</td></tr>\n",
       "\t<tr><td>0</td><td>BMI    </td><td> 35.3</td></tr>\n",
       "\t<tr><td>0</td><td>Glucose</td><td>110.0</td></tr>\n",
       "\t<tr><td>0</td><td>BMI    </td><td> 37.6</td></tr>\n",
       "</tbody>\n",
       "</table>\n"
      ],
      "text/latex": [
       "A tibble: 6 × 3\n",
       "\\begin{tabular}{lll}\n",
       " Outcome & name & value\\\\\n",
       " <fct> & <chr> & <dbl>\\\\\n",
       "\\hline\n",
       "\t 0 & Glucose &  89.0\\\\\n",
       "\t 0 & BMI     &  28.1\\\\\n",
       "\t 0 & Glucose & 115.0\\\\\n",
       "\t 0 & BMI     &  35.3\\\\\n",
       "\t 0 & Glucose & 110.0\\\\\n",
       "\t 0 & BMI     &  37.6\\\\\n",
       "\\end{tabular}\n"
      ],
      "text/markdown": [
       "\n",
       "A tibble: 6 × 3\n",
       "\n",
       "| Outcome &lt;fct&gt; | name &lt;chr&gt; | value &lt;dbl&gt; |\n",
       "|---|---|---|\n",
       "| 0 | Glucose |  89.0 |\n",
       "| 0 | BMI     |  28.1 |\n",
       "| 0 | Glucose | 115.0 |\n",
       "| 0 | BMI     |  35.3 |\n",
       "| 0 | Glucose | 110.0 |\n",
       "| 0 | BMI     |  37.6 |\n",
       "\n"
      ],
      "text/plain": [
       "  Outcome name    value\n",
       "1 0       Glucose  89.0\n",
       "2 0       BMI      28.1\n",
       "3 0       Glucose 115.0\n",
       "4 0       BMI      35.3\n",
       "5 0       Glucose 110.0\n",
       "6 0       BMI      37.6"
      ]
     },
     "metadata": {},
     "output_type": "display_data"
    }
   ],
   "source": [
    "plot_df = diabetes_train |>\n",
    "    select(Outcome, Glucose, BMI) |>\n",
    "    pivot_longer(cols = c(Glucose, BMI))\n",
    "\n",
    "plot_df |> head()"
   ]
  },
  {
   "cell_type": "markdown",
   "id": "67ccafeb-cd48-41cf-b3b8-d027aba80966",
   "metadata": {},
   "source": [
    "Using `plot_df`, make a chart showing the relationship of `Glucose` and `BMI` with `Outcome`. \n",
    "\n",
    "- use `geom_jitter` for your \"geom\"\n",
    "- `facet_wrap` your chart by the `name` variable. (e.g. `facet_wrap(~name, ncol = 2, scales = 'free_x')`)"
   ]
  },
  {
   "cell_type": "code",
   "execution_count": 46,
   "id": "d8025f46-2434-4b03-8f44-39d89f905c25",
   "metadata": {
    "tags": []
   },
   "outputs": [
    {
     "data": {
      "image/png": "[encoded data removed]",
      "text/plain": [
       "plot without title"
      ]
     },
     "metadata": {
      "image/png": {
       "height": 500,
       "width": 625
      }
     },
     "output_type": "display_data"
    }
   ],
   "source": [
    "ggplot(plot_df, aes(x = Outcome, y = value)) +\n",
    "    geom_jitter() +\n",
    "    facet_wrap(~name, ncol = 2, scales = 'free_x')"
   ]
  },
  {
   "cell_type": "markdown",
   "id": "29a0eccb-f3d5-49f5-b397-92b35b45e514",
   "metadata": {},
   "source": [
    "❓ What happens when you remove the `scales = 'free_x'` argument from the `facet_wrap` function?\n",
    "\n",
    "**Answer:**"
   ]
  },
  {
   "cell_type": "markdown",
   "id": "d986f117-d025-40c5-ac9f-41ccdf7c582b",
   "metadata": {},
   "source": [
    "Without scales = 'free_x', all facets will share the same x-axis scale. This means that the range and breaks on the x-axis will be the same across both facets"
   ]
  },
  {
   "cell_type": "markdown",
   "id": "935e60ea-5f33-4eba-97c0-59f0a3792ecf",
   "metadata": {},
   "source": [
    "Using your training data, build logistic regression model of `Outcome` with `BMI` and `Glucose` as predictors. \n",
    "- Use \"glm\" for you engine\n",
    "- The formula for your fit function will be `Outcome ~ BMI + Glucose`"
   ]
  },
  {
   "cell_type": "code",
   "execution_count": 47,
   "id": "afe8a486-704e-41a7-9ed5-72e17b95d6f1",
   "metadata": {
    "tags": []
   },
   "outputs": [
    {
     "data": {
      "text/html": [
       "<table class=\"dataframe\">\n",
       "<caption>A tibble: 6 × 3</caption>\n",
       "<thead>\n",
       "\t<tr><th scope=col>BMI</th><th scope=col>Glucose</th><th scope=col>Outcome</th></tr>\n",
       "\t<tr><th scope=col>&lt;dbl&gt;</th><th scope=col>&lt;dbl&gt;</th><th scope=col>&lt;fct&gt;</th></tr>\n",
       "</thead>\n",
       "<tbody>\n",
       "\t<tr><td>28.1</td><td> 89</td><td>0</td></tr>\n",
       "\t<tr><td>35.3</td><td>115</td><td>0</td></tr>\n",
       "\t<tr><td>37.6</td><td>110</td><td>0</td></tr>\n",
       "\t<tr><td>27.1</td><td>139</td><td>0</td></tr>\n",
       "\t<tr><td>23.2</td><td> 97</td><td>0</td></tr>\n",
       "\t<tr><td>22.2</td><td>145</td><td>0</td></tr>\n",
       "</tbody>\n",
       "</table>\n"
      ],
      "text/latex": [
       "A tibble: 6 × 3\n",
       "\\begin{tabular}{lll}\n",
       " BMI & Glucose & Outcome\\\\\n",
       " <dbl> & <dbl> & <fct>\\\\\n",
       "\\hline\n",
       "\t 28.1 &  89 & 0\\\\\n",
       "\t 35.3 & 115 & 0\\\\\n",
       "\t 37.6 & 110 & 0\\\\\n",
       "\t 27.1 & 139 & 0\\\\\n",
       "\t 23.2 &  97 & 0\\\\\n",
       "\t 22.2 & 145 & 0\\\\\n",
       "\\end{tabular}\n"
      ],
      "text/markdown": [
       "\n",
       "A tibble: 6 × 3\n",
       "\n",
       "| BMI &lt;dbl&gt; | Glucose &lt;dbl&gt; | Outcome &lt;fct&gt; |\n",
       "|---|---|---|\n",
       "| 28.1 |  89 | 0 |\n",
       "| 35.3 | 115 | 0 |\n",
       "| 37.6 | 110 | 0 |\n",
       "| 27.1 | 139 | 0 |\n",
       "| 23.2 |  97 | 0 |\n",
       "| 22.2 | 145 | 0 |\n",
       "\n"
      ],
      "text/plain": [
       "  BMI  Glucose Outcome\n",
       "1 28.1  89     0      \n",
       "2 35.3 115     0      \n",
       "3 37.6 110     0      \n",
       "4 27.1 139     0      \n",
       "5 23.2  97     0      \n",
       "6 22.2 145     0      "
      ]
     },
     "metadata": {},
     "output_type": "display_data"
    }
   ],
   "source": [
    "rec = recipe(Outcome ~ BMI + Glucose, data = diabetes_train)\n",
    "\n",
    "rec_prepped = prep(rec, diabetes_train)\n",
    "\n",
    "rec_prepped %>%\n",
    "    juice() %>%\n",
    "    head()"
   ]
  },
  {
   "cell_type": "code",
   "execution_count": 48,
   "id": "27dddfd6-efb4-4edf-a9e4-7e6239ef0216",
   "metadata": {
    "tags": []
   },
   "outputs": [
    {
     "data": {
      "text/html": [
       "<table class=\"dataframe\">\n",
       "<caption>A tibble: 3 × 5</caption>\n",
       "<thead>\n",
       "\t<tr><th scope=col>term</th><th scope=col>estimate</th><th scope=col>std.error</th><th scope=col>statistic</th><th scope=col>p.value</th></tr>\n",
       "\t<tr><th scope=col>&lt;chr&gt;</th><th scope=col>&lt;dbl&gt;</th><th scope=col>&lt;dbl&gt;</th><th scope=col>&lt;dbl&gt;</th><th scope=col>&lt;dbl&gt;</th></tr>\n",
       "</thead>\n",
       "<tbody>\n",
       "\t<tr><td>(Intercept)</td><td>-7.59236933</td><td>0.706804584</td><td>-10.741822</td><td>6.475337e-27</td></tr>\n",
       "\t<tr><td>BMI        </td><td> 0.07094804</td><td>0.015205392</td><td>  4.665979</td><td>3.071510e-06</td></tr>\n",
       "\t<tr><td>Glucose    </td><td> 0.03702081</td><td>0.003905957</td><td>  9.478037</td><td>2.591114e-21</td></tr>\n",
       "</tbody>\n",
       "</table>\n"
      ],
      "text/latex": [
       "A tibble: 3 × 5\n",
       "\\begin{tabular}{lllll}\n",
       " term & estimate & std.error & statistic & p.value\\\\\n",
       " <chr> & <dbl> & <dbl> & <dbl> & <dbl>\\\\\n",
       "\\hline\n",
       "\t (Intercept) & -7.59236933 & 0.706804584 & -10.741822 & 6.475337e-27\\\\\n",
       "\t BMI         &  0.07094804 & 0.015205392 &   4.665979 & 3.071510e-06\\\\\n",
       "\t Glucose     &  0.03702081 & 0.003905957 &   9.478037 & 2.591114e-21\\\\\n",
       "\\end{tabular}\n"
      ],
      "text/markdown": [
       "\n",
       "A tibble: 3 × 5\n",
       "\n",
       "| term &lt;chr&gt; | estimate &lt;dbl&gt; | std.error &lt;dbl&gt; | statistic &lt;dbl&gt; | p.value &lt;dbl&gt; |\n",
       "|---|---|---|---|---|\n",
       "| (Intercept) | -7.59236933 | 0.706804584 | -10.741822 | 6.475337e-27 |\n",
       "| BMI         |  0.07094804 | 0.015205392 |   4.665979 | 3.071510e-06 |\n",
       "| Glucose     |  0.03702081 | 0.003905957 |   9.478037 | 2.591114e-21 |\n",
       "\n"
      ],
      "text/plain": [
       "  term        estimate    std.error   statistic  p.value     \n",
       "1 (Intercept) -7.59236933 0.706804584 -10.741822 6.475337e-27\n",
       "2 BMI          0.07094804 0.015205392   4.665979 3.071510e-06\n",
       "3 Glucose      0.03702081 0.003905957   9.478037 2.591114e-21"
      ]
     },
     "metadata": {},
     "output_type": "display_data"
    }
   ],
   "source": [
    "mod = logistic_reg() %>% set_engine('glm')\n",
    "\n",
    "mod_fit = mod %>% fit(Outcome ~ BMI + Glucose, juice(rec_prepped))\n",
    "\n",
    "tidy(mod_fit)"
   ]
  },
  {
   "cell_type": "markdown",
   "id": "9a1aa2d0-b6b4-42ad-8ac5-17c90e4bb216",
   "metadata": {},
   "source": [
    "Using `augment` with your fitted model and the `diabetes_test` data as arguments, create a new dataset called `diabeted_test_wPred` that is the `diabetes_test` table including predictions from your model. "
   ]
  },
  {
   "cell_type": "code",
   "execution_count": 49,
   "id": "36e7fbfa-b71a-4175-bcc1-e565a748c124",
   "metadata": {
    "tags": []
   },
   "outputs": [
    {
     "data": {
      "text/html": [
       "<table class=\"dataframe\">\n",
       "<caption>A tibble: 5 × 12</caption>\n",
       "<thead>\n",
       "\t<tr><th scope=col>.pred_class</th><th scope=col>.pred_0</th><th scope=col>.pred_1</th><th scope=col>Pregnancies</th><th scope=col>Glucose</th><th scope=col>BloodPressure</th><th scope=col>SkinThickness</th><th scope=col>Insulin</th><th scope=col>BMI</th><th scope=col>DiabetesPedigreeFunction</th><th scope=col>Age</th><th scope=col>Outcome</th></tr>\n",
       "\t<tr><th scope=col>&lt;fct&gt;</th><th scope=col>&lt;dbl&gt;</th><th scope=col>&lt;dbl&gt;</th><th scope=col>&lt;dbl&gt;</th><th scope=col>&lt;dbl&gt;</th><th scope=col>&lt;dbl&gt;</th><th scope=col>&lt;dbl&gt;</th><th scope=col>&lt;dbl&gt;</th><th scope=col>&lt;dbl&gt;</th><th scope=col>&lt;dbl&gt;</th><th scope=col>&lt;dbl&gt;</th><th scope=col>&lt;fct&gt;</th></tr>\n",
       "</thead>\n",
       "<tbody>\n",
       "\t<tr><td>1</td><td>0.3969536</td><td>0.603046411</td><td>5</td><td>115</td><td>98</td><td> 0</td><td>  0</td><td>52.9</td><td>0.209</td><td>28</td><td>1</td></tr>\n",
       "\t<tr><td>0</td><td>0.6823820</td><td>0.317618014</td><td>3</td><td>130</td><td>78</td><td>23</td><td> 79</td><td>28.4</td><td>0.323</td><td>34</td><td>1</td></tr>\n",
       "\t<tr><td>1</td><td>0.2890674</td><td>0.710932627</td><td>6</td><td>165</td><td>68</td><td>26</td><td>168</td><td>33.6</td><td>0.631</td><td>49</td><td>0</td></tr>\n",
       "\t<tr><td>0</td><td>0.8746465</td><td>0.125353538</td><td>0</td><td> 84</td><td>64</td><td>22</td><td> 66</td><td>35.8</td><td>0.545</td><td>21</td><td>0</td></tr>\n",
       "\t<tr><td>0</td><td>0.9920405</td><td>0.007959516</td><td>6</td><td>  0</td><td>68</td><td>41</td><td>  0</td><td>39.0</td><td>0.727</td><td>41</td><td>1</td></tr>\n",
       "</tbody>\n",
       "</table>\n"
      ],
      "text/latex": [
       "A tibble: 5 × 12\n",
       "\\begin{tabular}{llllllllllll}\n",
       " .pred\\_class & .pred\\_0 & .pred\\_1 & Pregnancies & Glucose & BloodPressure & SkinThickness & Insulin & BMI & DiabetesPedigreeFunction & Age & Outcome\\\\\n",
       " <fct> & <dbl> & <dbl> & <dbl> & <dbl> & <dbl> & <dbl> & <dbl> & <dbl> & <dbl> & <dbl> & <fct>\\\\\n",
       "\\hline\n",
       "\t 1 & 0.3969536 & 0.603046411 & 5 & 115 & 98 &  0 &   0 & 52.9 & 0.209 & 28 & 1\\\\\n",
       "\t 0 & 0.6823820 & 0.317618014 & 3 & 130 & 78 & 23 &  79 & 28.4 & 0.323 & 34 & 1\\\\\n",
       "\t 1 & 0.2890674 & 0.710932627 & 6 & 165 & 68 & 26 & 168 & 33.6 & 0.631 & 49 & 0\\\\\n",
       "\t 0 & 0.8746465 & 0.125353538 & 0 &  84 & 64 & 22 &  66 & 35.8 & 0.545 & 21 & 0\\\\\n",
       "\t 0 & 0.9920405 & 0.007959516 & 6 &   0 & 68 & 41 &   0 & 39.0 & 0.727 & 41 & 1\\\\\n",
       "\\end{tabular}\n"
      ],
      "text/markdown": [
       "\n",
       "A tibble: 5 × 12\n",
       "\n",
       "| .pred_class &lt;fct&gt; | .pred_0 &lt;dbl&gt; | .pred_1 &lt;dbl&gt; | Pregnancies &lt;dbl&gt; | Glucose &lt;dbl&gt; | BloodPressure &lt;dbl&gt; | SkinThickness &lt;dbl&gt; | Insulin &lt;dbl&gt; | BMI &lt;dbl&gt; | DiabetesPedigreeFunction &lt;dbl&gt; | Age &lt;dbl&gt; | Outcome &lt;fct&gt; |\n",
       "|---|---|---|---|---|---|---|---|---|---|---|---|\n",
       "| 1 | 0.3969536 | 0.603046411 | 5 | 115 | 98 |  0 |   0 | 52.9 | 0.209 | 28 | 1 |\n",
       "| 0 | 0.6823820 | 0.317618014 | 3 | 130 | 78 | 23 |  79 | 28.4 | 0.323 | 34 | 1 |\n",
       "| 1 | 0.2890674 | 0.710932627 | 6 | 165 | 68 | 26 | 168 | 33.6 | 0.631 | 49 | 0 |\n",
       "| 0 | 0.8746465 | 0.125353538 | 0 |  84 | 64 | 22 |  66 | 35.8 | 0.545 | 21 | 0 |\n",
       "| 0 | 0.9920405 | 0.007959516 | 6 |   0 | 68 | 41 |   0 | 39.0 | 0.727 | 41 | 1 |\n",
       "\n"
      ],
      "text/plain": [
       "  .pred_class .pred_0   .pred_1     Pregnancies Glucose BloodPressure\n",
       "1 1           0.3969536 0.603046411 5           115     98           \n",
       "2 0           0.6823820 0.317618014 3           130     78           \n",
       "3 1           0.2890674 0.710932627 6           165     68           \n",
       "4 0           0.8746465 0.125353538 0            84     64           \n",
       "5 0           0.9920405 0.007959516 6             0     68           \n",
       "  SkinThickness Insulin BMI  DiabetesPedigreeFunction Age Outcome\n",
       "1  0              0     52.9 0.209                    28  1      \n",
       "2 23             79     28.4 0.323                    34  1      \n",
       "3 26            168     33.6 0.631                    49  0      \n",
       "4 22             66     35.8 0.545                    21  0      \n",
       "5 41              0     39.0 0.727                    41  1      "
      ]
     },
     "metadata": {},
     "output_type": "display_data"
    }
   ],
   "source": [
    "diabetes_test_wPred = augment(mod_fit, diabetes_test)\n",
    "\n",
    "sample_n(diabetes_test_wPred, 5)\n",
    "\n"
   ]
  },
  {
   "cell_type": "markdown",
   "id": "f35cf7da-ca1e-42d3-a27b-e79193a1ccfd",
   "metadata": {},
   "source": [
    "Run the code below to generate a confusion matrix for your model predictions. \n",
    "\n",
    "(❗️Hint: See Table 4.4 from [*Introduction to Statistical Learning (Version 2)*](https://www.statlearning.com/) for an example confusion matrix.)"
   ]
  },
  {
   "cell_type": "code",
   "execution_count": 50,
   "id": "fb3bfae0-9d17-48a0-bde7-4891f91a07aa",
   "metadata": {
    "tags": []
   },
   "outputs": [
    {
     "data": {
      "text/plain": [
       "          Truth\n",
       "Prediction   0   1\n",
       "         0 114  32\n",
       "         1  11  35"
      ]
     },
     "metadata": {},
     "output_type": "display_data"
    }
   ],
   "source": [
    "diabetes_test_wPred = augment(mod_fit, new_data = diabetes_test)\n",
    "\n",
    "diabetes_test_wPred |> conf_mat(Outcome, .pred_class)"
   ]
  },
  {
   "cell_type": "markdown",
   "id": "7dc9a16d-9fda-4fcc-8e62-52c3e5849e26",
   "metadata": {},
   "source": [
    "❓ Based on the confusion matrix above, \n",
    "- How many individuals had diabetes in your test data?\n",
    "- Of those that actually had diabetes, how many were predicted to have diabetes by your model?\n",
    "- How many individuals predicted to have diabetes did not have diabetes?\n",
    "\n",
    "**Answer:**"
   ]
  },
  {
   "cell_type": "markdown",
   "id": "fde9a694-244c-48d1-a318-680b1a0105b6",
   "metadata": {},
   "source": [
    "In the test data, 67 individuals had diabetes. Of these 67, the model correctly predicted that 35 individuals had diabetes, and incorrectly predicted that 32 individuals did not have diabetes, when in reality, they did."
   ]
  },
  {
   "cell_type": "code",
   "execution_count": null,
   "id": "b1d2dc13-1a5f-42b7-9cb6-049d29c91df0",
   "metadata": {},
   "outputs": [],
   "source": []
  }
 ],
 "metadata": {
  "kernelspec": {
   "display_name": "data730:R",
   "language": "R",
   "name": "conda-env-data730-r"
  },
  "language_info": {
   "codemirror_mode": "r",
   "file_extension": ".r",
   "mimetype": "text/x-r-source",
   "name": "R",
   "pygments_lexer": "r",
   "version": "4.3.3"
  }
 },
 "nbformat": 4,
 "nbformat_minor": 5
}
